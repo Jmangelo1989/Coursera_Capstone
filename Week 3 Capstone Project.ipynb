{
    "cells": [
        {
            "cell_type": "markdown",
            "metadata": {},
            "source": "# Week 3 Project (Capstone)"
        },
        {
            "cell_type": "markdown",
            "metadata": {},
            "source": "## Import Libraries"
        },
        {
            "cell_type": "code",
            "execution_count": 46,
            "metadata": {},
            "outputs": [],
            "source": "import numpy as np\nimport pandas as pd\nimport requests\nfrom bs4 import BeautifulSoup"
        },
        {
            "cell_type": "markdown",
            "metadata": {},
            "source": "## Create Pandas Data Frame"
        },
        {
            "cell_type": "code",
            "execution_count": 47,
            "metadata": {},
            "outputs": [],
            "source": "url = 'https://en.wikipedia.org/wiki/List_of_neighbourhoods_in_Toronto'\ndfs = pd.read_html(url)"
        },
        {
            "cell_type": "markdown",
            "metadata": {},
            "source": "## Find Correct Table"
        },
        {
            "cell_type": "code",
            "execution_count": 48,
            "metadata": {},
            "outputs": [
                {
                    "data": {
                        "text/html": "<div>\n<style scoped>\n    .dataframe tbody tr th:only-of-type {\n        vertical-align: middle;\n    }\n\n    .dataframe tbody tr th {\n        vertical-align: top;\n    }\n\n    .dataframe thead th {\n        text-align: right;\n    }\n</style>\n<table border=\"1\" class=\"dataframe\">\n  <thead>\n    <tr style=\"text-align: right;\">\n      <th></th>\n      <th>CDN number</th>\n      <th>City-designated neighbourhood</th>\n      <th>Former city/borough</th>\n      <th>Neighbourhoods covered</th>\n      <th>Map</th>\n      <th>Unnamed: 5</th>\n    </tr>\n  </thead>\n  <tbody>\n    <tr>\n      <th>0</th>\n      <td>129</td>\n      <td>Agincourt North</td>\n      <td>Scarborough</td>\n      <td>Agincourt and Brimwood</td>\n      <td>NaN</td>\n      <td>NaN</td>\n    </tr>\n    <tr>\n      <th>1</th>\n      <td>128</td>\n      <td>Agincourt South-Malvern West</td>\n      <td>Scarborough</td>\n      <td>Agincourt and Malvern</td>\n      <td>NaN</td>\n      <td>NaN</td>\n    </tr>\n    <tr>\n      <th>2</th>\n      <td>20</td>\n      <td>Alderwood</td>\n      <td>Etobicoke</td>\n      <td>Alderwood</td>\n      <td>NaN</td>\n      <td>NaN</td>\n    </tr>\n    <tr>\n      <th>3</th>\n      <td>95</td>\n      <td>Annex</td>\n      <td>Old City of Toronto</td>\n      <td>The Annex and Seaton Village</td>\n      <td>NaN</td>\n      <td>NaN</td>\n    </tr>\n    <tr>\n      <th>4</th>\n      <td>42</td>\n      <td>Banbury-Don Mills</td>\n      <td>North York</td>\n      <td>Don Mills</td>\n      <td>NaN</td>\n      <td>NaN</td>\n    </tr>\n    <tr>\n      <th>...</th>\n      <td>...</td>\n      <td>...</td>\n      <td>...</td>\n      <td>...</td>\n      <td>...</td>\n      <td>...</td>\n    </tr>\n    <tr>\n      <th>135</th>\n      <td>94</td>\n      <td>Wychwood</td>\n      <td>Old City of Toronto</td>\n      <td>NaN</td>\n      <td>NaN</td>\n      <td>NaN</td>\n    </tr>\n    <tr>\n      <th>136</th>\n      <td>100</td>\n      <td>Yonge and Eglinton</td>\n      <td>Old City of Toronto</td>\n      <td>Chaplin Estates</td>\n      <td>NaN</td>\n      <td>NaN</td>\n    </tr>\n    <tr>\n      <th>137</th>\n      <td>97</td>\n      <td>Yonge-St.Clair</td>\n      <td>Old City of Toronto</td>\n      <td>NaN</td>\n      <td>NaN</td>\n      <td>NaN</td>\n    </tr>\n    <tr>\n      <th>138</th>\n      <td>27</td>\n      <td>York University Heights</td>\n      <td>North York</td>\n      <td>NaN</td>\n      <td>NaN</td>\n      <td>NaN</td>\n    </tr>\n    <tr>\n      <th>139</th>\n      <td>31</td>\n      <td>Yorkdale-Glen Park</td>\n      <td>North York</td>\n      <td>Glen Park, Lawrence Heights</td>\n      <td>NaN</td>\n      <td>NaN</td>\n    </tr>\n  </tbody>\n</table>\n<p>140 rows \u00d7 6 columns</p>\n</div>",
                        "text/plain": "     CDN number City-designated neighbourhood  Former city/borough  \\\n0           129               Agincourt North          Scarborough   \n1           128  Agincourt South-Malvern West          Scarborough   \n2            20                     Alderwood            Etobicoke   \n3            95                         Annex  Old City of Toronto   \n4            42             Banbury-Don Mills           North York   \n..          ...                           ...                  ...   \n135          94                      Wychwood  Old City of Toronto   \n136         100            Yonge and Eglinton  Old City of Toronto   \n137          97                Yonge-St.Clair  Old City of Toronto   \n138          27       York University Heights           North York   \n139          31            Yorkdale-Glen Park           North York   \n\n           Neighbourhoods covered  Map  Unnamed: 5  \n0          Agincourt and Brimwood  NaN         NaN  \n1           Agincourt and Malvern  NaN         NaN  \n2                       Alderwood  NaN         NaN  \n3    The Annex and Seaton Village  NaN         NaN  \n4                       Don Mills  NaN         NaN  \n..                            ...  ...         ...  \n135                           NaN  NaN         NaN  \n136               Chaplin Estates  NaN         NaN  \n137                           NaN  NaN         NaN  \n138                           NaN  NaN         NaN  \n139   Glen Park, Lawrence Heights  NaN         NaN  \n\n[140 rows x 6 columns]"
                    },
                    "execution_count": 48,
                    "metadata": {},
                    "output_type": "execute_result"
                }
            ],
            "source": "hoods = dfs[10]\nhoods"
        },
        {
            "cell_type": "markdown",
            "metadata": {},
            "source": "## Drop Non-Required Information"
        },
        {
            "cell_type": "code",
            "execution_count": 52,
            "metadata": {},
            "outputs": [
                {
                    "data": {
                        "text/html": "<div>\n<style scoped>\n    .dataframe tbody tr th:only-of-type {\n        vertical-align: middle;\n    }\n\n    .dataframe tbody tr th {\n        vertical-align: top;\n    }\n\n    .dataframe thead th {\n        text-align: right;\n    }\n</style>\n<table border=\"1\" class=\"dataframe\">\n  <thead>\n    <tr style=\"text-align: right;\">\n      <th></th>\n      <th>CDN number</th>\n      <th>City-designated neighbourhood</th>\n      <th>Former city/borough</th>\n    </tr>\n  </thead>\n  <tbody>\n    <tr>\n      <th>0</th>\n      <td>129</td>\n      <td>Agincourt North</td>\n      <td>Scarborough</td>\n    </tr>\n    <tr>\n      <th>1</th>\n      <td>128</td>\n      <td>Agincourt South-Malvern West</td>\n      <td>Scarborough</td>\n    </tr>\n    <tr>\n      <th>2</th>\n      <td>20</td>\n      <td>Alderwood</td>\n      <td>Etobicoke</td>\n    </tr>\n    <tr>\n      <th>3</th>\n      <td>95</td>\n      <td>Annex</td>\n      <td>Old City of Toronto</td>\n    </tr>\n    <tr>\n      <th>4</th>\n      <td>42</td>\n      <td>Banbury-Don Mills</td>\n      <td>North York</td>\n    </tr>\n    <tr>\n      <th>...</th>\n      <td>...</td>\n      <td>...</td>\n      <td>...</td>\n    </tr>\n    <tr>\n      <th>135</th>\n      <td>94</td>\n      <td>Wychwood</td>\n      <td>Old City of Toronto</td>\n    </tr>\n    <tr>\n      <th>136</th>\n      <td>100</td>\n      <td>Yonge and Eglinton</td>\n      <td>Old City of Toronto</td>\n    </tr>\n    <tr>\n      <th>137</th>\n      <td>97</td>\n      <td>Yonge-St.Clair</td>\n      <td>Old City of Toronto</td>\n    </tr>\n    <tr>\n      <th>138</th>\n      <td>27</td>\n      <td>York University Heights</td>\n      <td>North York</td>\n    </tr>\n    <tr>\n      <th>139</th>\n      <td>31</td>\n      <td>Yorkdale-Glen Park</td>\n      <td>North York</td>\n    </tr>\n  </tbody>\n</table>\n<p>140 rows \u00d7 3 columns</p>\n</div>",
                        "text/plain": "     CDN number City-designated neighbourhood  Former city/borough\n0           129               Agincourt North          Scarborough\n1           128  Agincourt South-Malvern West          Scarborough\n2            20                     Alderwood            Etobicoke\n3            95                         Annex  Old City of Toronto\n4            42             Banbury-Don Mills           North York\n..          ...                           ...                  ...\n135          94                      Wychwood  Old City of Toronto\n136         100            Yonge and Eglinton  Old City of Toronto\n137          97                Yonge-St.Clair  Old City of Toronto\n138          27       York University Heights           North York\n139          31            Yorkdale-Glen Park           North York\n\n[140 rows x 3 columns]"
                    },
                    "execution_count": 52,
                    "metadata": {},
                    "output_type": "execute_result"
                }
            ],
            "source": "#hoods = hoods.drop(['Neighbourhoods covered','Map', 'Unnamed: 5'], axis = 1)\nhoods"
        },
        {
            "cell_type": "code",
            "execution_count": 50,
            "metadata": {},
            "outputs": [
                {
                    "data": {
                        "text/plain": "(140, 3)"
                    },
                    "execution_count": 50,
                    "metadata": {},
                    "output_type": "execute_result"
                }
            ],
            "source": "hoods.shape"
        },
        {
            "cell_type": "code",
            "execution_count": null,
            "metadata": {},
            "outputs": [],
            "source": ""
        }
    ],
    "metadata": {
        "kernelspec": {
            "display_name": "Python 3.7",
            "language": "python",
            "name": "python3"
        },
        "language_info": {
            "codemirror_mode": {
                "name": "ipython",
                "version": 3
            },
            "file_extension": ".py",
            "mimetype": "text/x-python",
            "name": "python",
            "nbconvert_exporter": "python",
            "pygments_lexer": "ipython3",
            "version": "3.7.10"
        }
    },
    "nbformat": 4,
    "nbformat_minor": 1
}