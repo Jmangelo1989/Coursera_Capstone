{
    "cells": [
        {
            "cell_type": "code",
            "execution_count": 5,
            "metadata": {},
            "outputs": [],
            "source": "import numpy as np\nimport pandas as pd\nimport requests\nfrom bs4 import BeautifulSoup"
        },
        {
            "cell_type": "code",
            "execution_count": 31,
            "metadata": {},
            "outputs": [
                {
                    "data": {
                        "text/html": "<div>\n<style scoped>\n    .dataframe tbody tr th:only-of-type {\n        vertical-align: middle;\n    }\n\n    .dataframe tbody tr th {\n        vertical-align: top;\n    }\n\n    .dataframe thead th {\n        text-align: right;\n    }\n</style>\n<table border=\"1\" class=\"dataframe\">\n  <thead>\n    <tr style=\"text-align: right;\">\n      <th></th>\n      <th>CDN number</th>\n      <th>City-designated neighbourhood</th>\n      <th>Former city/borough</th>\n    </tr>\n  </thead>\n  <tbody>\n    <tr>\n      <th>0</th>\n      <td>129</td>\n      <td>Agincourt North</td>\n      <td>Scarborough</td>\n    </tr>\n    <tr>\n      <th>1</th>\n      <td>128</td>\n      <td>Agincourt South-Malvern West</td>\n      <td>Scarborough</td>\n    </tr>\n    <tr>\n      <th>2</th>\n      <td>20</td>\n      <td>Alderwood</td>\n      <td>Etobicoke</td>\n    </tr>\n    <tr>\n      <th>3</th>\n      <td>95</td>\n      <td>Annex</td>\n      <td>Old City of Toronto</td>\n    </tr>\n    <tr>\n      <th>4</th>\n      <td>42</td>\n      <td>Banbury-Don Mills</td>\n      <td>North York</td>\n    </tr>\n    <tr>\n      <th>...</th>\n      <td>...</td>\n      <td>...</td>\n      <td>...</td>\n    </tr>\n    <tr>\n      <th>135</th>\n      <td>94</td>\n      <td>Wychwood</td>\n      <td>Old City of Toronto</td>\n    </tr>\n    <tr>\n      <th>136</th>\n      <td>100</td>\n      <td>Yonge and Eglinton</td>\n      <td>Old City of Toronto</td>\n    </tr>\n    <tr>\n      <th>137</th>\n      <td>97</td>\n      <td>Yonge-St.Clair</td>\n      <td>Old City of Toronto</td>\n    </tr>\n    <tr>\n      <th>138</th>\n      <td>27</td>\n      <td>York University Heights</td>\n      <td>North York</td>\n    </tr>\n    <tr>\n      <th>139</th>\n      <td>31</td>\n      <td>Yorkdale-Glen Park</td>\n      <td>North York</td>\n    </tr>\n  </tbody>\n</table>\n<p>140 rows \u00d7 3 columns</p>\n</div>",
                        "text/plain": "     CDN number City-designated neighbourhood  Former city/borough\n0           129               Agincourt North          Scarborough\n1           128  Agincourt South-Malvern West          Scarborough\n2            20                     Alderwood            Etobicoke\n3            95                         Annex  Old City of Toronto\n4            42             Banbury-Don Mills           North York\n..          ...                           ...                  ...\n135          94                      Wychwood  Old City of Toronto\n136         100            Yonge and Eglinton  Old City of Toronto\n137          97                Yonge-St.Clair  Old City of Toronto\n138          27       York University Heights           North York\n139          31            Yorkdale-Glen Park           North York\n\n[140 rows x 3 columns]"
                    },
                    "execution_count": 31,
                    "metadata": {},
                    "output_type": "execute_result"
                }
            ],
            "source": "url = 'https://en.wikipedia.org/wiki/List_of_neighbourhoods_in_Toronto'\npage = requests.get(url)\nsoup = BeautifulSoup(page.content, 'html.parser')\ndfs = pd.read_html(url)\nhoods = dfs[10]\nhoods.drop(['Neighbourhoods covered','Map', 'Unnamed: 5'], axis = 1)"
        },
        {
            "cell_type": "code",
            "execution_count": null,
            "metadata": {},
            "outputs": [],
            "source": ""
        },
        {
            "cell_type": "code",
            "execution_count": null,
            "metadata": {},
            "outputs": [],
            "source": ""
        }
    ],
    "metadata": {
        "kernelspec": {
            "display_name": "Python 3.7",
            "language": "python",
            "name": "python3"
        },
        "language_info": {
            "codemirror_mode": {
                "name": "ipython",
                "version": 3
            },
            "file_extension": ".py",
            "mimetype": "text/x-python",
            "name": "python",
            "nbconvert_exporter": "python",
            "pygments_lexer": "ipython3",
            "version": "3.7.10"
        }
    },
    "nbformat": 4,
    "nbformat_minor": 1
}